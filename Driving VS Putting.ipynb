{
 "cells": [
  {
   "cell_type": "code",
   "id": "initial_id",
   "metadata": {
    "collapsed": true,
    "ExecuteTime": {
     "end_time": "2025-03-31T20:46:06.286280Z",
     "start_time": "2025-03-31T20:46:06.283276Z"
    }
   },
   "source": [
    "import pandas as pd\n",
    "import matplotlib.pyplot as plt\n",
    "import seaborn as sns"
   ],
   "outputs": [],
   "execution_count": 68
  },
  {
   "metadata": {
    "ExecuteTime": {
     "end_time": "2025-03-31T20:46:06.296155Z",
     "start_time": "2025-03-31T20:46:06.290321Z"
    }
   },
   "cell_type": "code",
   "source": [
    "# Loading csv in to pandas dataframe\n",
    "pga_2022_Stats = pd.read_csv(r'C:\\Users\\kylea\\OneDrive\\Winter 2025\\Data Mining\\Project\\Data/PGA2022.csv', encoding='cp1252')"
   ],
   "id": "2094db82d99de488",
   "outputs": [],
   "execution_count": 69
  },
  {
   "metadata": {
    "ExecuteTime": {
     "end_time": "2025-03-31T20:46:06.365254Z",
     "start_time": "2025-03-31T20:46:06.357857Z"
    }
   },
   "cell_type": "code",
   "source": "print(pga_2022_Stats)",
   "id": "36bfd1a7516cf4d0",
   "outputs": [
    {
     "name": "stdout",
     "output_type": "stream",
     "text": [
      "           playerName  avgDriveDist  drivePct  avgPuttsPerRound  onePuttPct  \\\n",
      "0           Luke List         319.5     60.71             28.00       43.06   \n",
      "1      Will Zalatoris         317.4     58.93             26.50       47.22   \n",
      "2     Joseph Bramlett         315.3     73.21             28.50       43.06   \n",
      "3       Wyndham Clark         313.0     62.50             27.00       47.22   \n",
      "4         Paul Barjon         311.1     62.50             28.50       44.44   \n",
      "...               ...           ...       ...               ...         ...   \n",
      "1318    Brett Drewitt         299.8     55.36             29.00       36.11   \n",
      "1319     Brendon Todd         298.5     67.86             31.00       27.78   \n",
      "1320    Andrew Putnam         298.4     71.43             31.25       30.56   \n",
      "1321      Luke Donald         298.3     48.21             28.00       43.06   \n",
      "1322      Joel Dahmen         296.8     55.36             31.50       29.17   \n",
      "\n",
      "      driveSG  puttsSG  avgScore            tournament  courseYards  \n",
      "0       0.724   -0.529    70.510  The American Express         7129  \n",
      "1       0.787   -0.752    69.435  The American Express         7129  \n",
      "2       1.554   -0.045    70.173  The American Express         7129  \n",
      "3       0.352    0.500    70.435  The American Express         7129  \n",
      "4       1.297    0.190    69.935  The American Express         7129  \n",
      "...       ...      ...       ...                   ...          ...  \n",
      "1318   -2.029    0.883    69.902  Wyndham Championship         7131  \n",
      "1319    0.246    0.656    69.152  Wyndham Championship         7131  \n",
      "1320    0.114    0.191    68.902  Wyndham Championship         7131  \n",
      "1321   -1.085    1.677    69.652  Wyndham Championship         7131  \n",
      "1322    0.034   -0.746    71.652  Wyndham Championship         7131  \n",
      "\n",
      "[1323 rows x 10 columns]\n"
     ]
    }
   ],
   "execution_count": 70
  },
  {
   "metadata": {
    "ExecuteTime": {
     "end_time": "2025-03-31T20:46:06.461062Z",
     "start_time": "2025-03-31T20:46:06.456256Z"
    }
   },
   "cell_type": "code",
   "source": [
    "# function to display number of null entries in columns in df\n",
    "def display_null_counts(df, display_zeros = True):\n",
    "    null_counts = df.isnull().sum()\n",
    "    print(\"Number of null entries in each column:\")\n",
    "    if not display_zeros:\n",
    "        null_counts = null_counts[null_counts > 0]\n",
    "    print(null_counts)"
   ],
   "id": "be91435a7b17cfde",
   "outputs": [],
   "execution_count": 71
  },
  {
   "metadata": {
    "ExecuteTime": {
     "end_time": "2025-03-31T20:46:06.494639Z",
     "start_time": "2025-03-31T20:46:06.491240Z"
    }
   },
   "cell_type": "code",
   "source": [
    "# Function to check for duplicate rows in the DataFrame\n",
    "def check_duplicates(df):\n",
    "    # Find duplicate rows\n",
    "    duplicates = df[df.duplicated()]\n",
    "    return duplicates"
   ],
   "id": "31329d9a4e326ddf",
   "outputs": [],
   "execution_count": 72
  },
  {
   "metadata": {
    "ExecuteTime": {
     "end_time": "2025-03-31T20:46:06.562398Z",
     "start_time": "2025-03-31T20:46:06.557752Z"
    }
   },
   "cell_type": "code",
   "source": [
    "# function to display unique values in df columns\n",
    "def display_unique_column_values(df):\n",
    "    for column in df.columns:\n",
    "        unique_values = df[column].unique()\n",
    "        print(f\"Unique values for column '{column}':\")\n",
    "        print(unique_values)\n",
    "        print()"
   ],
   "id": "b14c74c5e3f1c447",
   "outputs": [],
   "execution_count": 73
  },
  {
   "metadata": {
    "ExecuteTime": {
     "end_time": "2025-03-31T20:46:06.570479Z",
     "start_time": "2025-03-31T20:46:06.566402Z"
    }
   },
   "cell_type": "code",
   "source": "display_null_counts(pga_2022_Stats, False)",
   "id": "32396bbf57f811e3",
   "outputs": [
    {
     "name": "stdout",
     "output_type": "stream",
     "text": [
      "Number of null entries in each column:\n",
      "avgDriveDist        11\n",
      "drivePct            11\n",
      "avgPuttsPerRound    11\n",
      "onePuttPct          11\n",
      "driveSG             11\n",
      "puttsSG             11\n",
      "avgScore            11\n",
      "dtype: int64\n"
     ]
    }
   ],
   "execution_count": 74
  },
  {
   "metadata": {
    "ExecuteTime": {
     "end_time": "2025-03-31T20:46:06.607004Z",
     "start_time": "2025-03-31T20:46:06.601846Z"
    }
   },
   "cell_type": "code",
   "source": [
    "duplicates = check_duplicates(pga_2022_Stats)\n",
    "print(duplicates)"
   ],
   "id": "1cffcc9195c6c878",
   "outputs": [
    {
     "name": "stdout",
     "output_type": "stream",
     "text": [
      "Empty DataFrame\n",
      "Columns: [playerName, avgDriveDist, drivePct, avgPuttsPerRound, onePuttPct, driveSG, puttsSG, avgScore, tournament, courseYards]\n",
      "Index: []\n"
     ]
    }
   ],
   "execution_count": 75
  },
  {
   "metadata": {
    "ExecuteTime": {
     "end_time": "2025-03-31T20:46:06.677959Z",
     "start_time": "2025-03-31T20:46:06.667958Z"
    }
   },
   "cell_type": "code",
   "source": "display_unique_column_values(pga_2022_Stats)",
   "id": "a33d6485afc0e676",
   "outputs": [
    {
     "name": "stdout",
     "output_type": "stream",
     "text": [
      "Unique values for column 'playerName':\n",
      "['Luke List' 'Will Zalatoris' 'Joseph Bramlett' 'Wyndham Clark'\n",
      " 'Paul Barjon' 'Sungjae Im' 'Jon Rahm' 'Jason Day' 'Trey Mullinax'\n",
      " 'Scottie Scheffler' 'Cameron Young' 'Patrick Rodgers' 'Hudson Swafford'\n",
      " 'Patrick Cantlay' 'Stephen Stallings Jr.' 'Nick Hardy' 'Alex Smalley'\n",
      " 'Davis Riley' 'Tony Finau' 'Harold Varner III' 'Seamus Power'\n",
      " 'Jared Wolfe' 'Anirban Lahiri' 'Sahith Theegala' 'Si Woo Kim'\n",
      " 'Patrick Reed' 'Patton Kizzire' 'Abraham Ancer' 'Lee Hodges'\n",
      " 'Lanto Griffin' 'David Lipsky' 'Russell Henley' 'Harry Higgs'\n",
      " 'Camilo Villegas' 'Tom Hoge' 'Justin Rose' 'Charles Howell III'\n",
      " 'Francesco Molinari' 'Aaron Rai' 'Vince Whaley' 'K.H. Lee' 'J.T. Poston'\n",
      " 'Sepp Straka' 'Kevin Chappell' 'Martin Trainer' 'Taylor Moore'\n",
      " 'Lucas Glover' 'Brandt Snedeker' 'Adam Hadwin' 'Greyson Sigg' 'Doug Ghim'\n",
      " 'Bronson Burgoon' 'Sam Ryder' 'Roger Sloan' 'Adam Svensson'\n",
      " 'Emiliano Grillo' 'Hank Lebioda' 'J.J. Spaun' 'S.Y. Noh' 'Denny McCarthy'\n",
      " 'Brice Garnett' 'Michael Gligic' 'Brian Harman' 'Nick Taylor'\n",
      " 'Christiaan Bezuidenhout' 'Henrik Norlander' 'Jason Dufner'\n",
      " 'Zach Johnson' 'Andrew Putnam' 'Graeme McDowell' 'Peter Uihlein'\n",
      " 'Jason Kokrak' 'Cameron Champ' 'Callum Tarren' 'Jhonattan Vegas'\n",
      " 'Beau Hossler' 'Joaquin Niemann' 'Dustin Johnson' 'Justin Thomas'\n",
      " 'Jordan Spieth' 'Adam Scott' 'Keith Mitchell' 'Chesson Hadley'\n",
      " 'Adam Schenk' 'Maverick McNealy' 'Max McGreevy' 'Dylan Frittelli'\n",
      " 'Mito Pereira' 'Branden Grace' 'Austin Smotherman' 'Dawie van der Walt'\n",
      " 'Xander Schauffele' 'Scott Stallings' 'Sebastián Muñoz' 'Alex Noren'\n",
      " 'Stephan Jaeger' 'Matthew NeSmith' 'Hideki Matsuyama' 'Andrew Novak'\n",
      " 'Charl Schwartzel' 'Marc Leishman' 'Ryan Palmer' 'Bill Haas'\n",
      " 'Seth Reeves' 'Nate Lashley' 'Tommy Fleetwood' 'James Hahn'\n",
      " 'Justin Lower' 'Carlos Ortiz' 'Matthias Schwab' 'Aaron Wise'\n",
      " 'Conrad Shindler' 'Tyler Duncan' 'Kiradech Aphibarnrat' 'Ian Poulter'\n",
      " 'Rory Sabbatini' 'Wesley Bryan' 'David Skinns' 'Kyle Wilshire'\n",
      " 'Peter Malnati' 'Mark Hubbard' 'Michael Thompson' 'Brandon Wu'\n",
      " 'Pat Perez' 'Matt Kuchar' 'Vaughn Taylor' 'Tom Kim' 'Kurt Kitayama'\n",
      " 'Sam Burns' 'Max Homa' 'Danny Lee' 'Cam Davis' 'Viktor Hovland'\n",
      " 'Charley Hoffman' 'Daniel Berger' 'Chris Kirk' 'Lucas Herbert'\n",
      " 'Matt Jones' 'Russell Knox' 'C.T. Pan' 'Luke Donald' 'Talor Gooch'\n",
      " 'Webb Simpson' 'Collin Morikawa' 'Adam Long' 'Rickie Fowler' 'John Huh'\n",
      " 'Troy Merritt' 'Brendon Todd' 'Chad Ramey' 'Joel Dahmen' 'Chez Reavie'\n",
      " 'Kevin Na' 'Rory McIlroy' 'Garrick Higgo' 'Chan Kim' 'Brendan Steele'\n",
      " 'Keegan Bradley' 'Shane Lowry' 'Cameron Tringale' 'Cameron Smith'\n",
      " 'Mackenzie Hughes' 'Corey Conners' 'Martin Laird' 'Billy Horschel'\n",
      " 'Kramer Hickok' 'David Lingmerth' 'Ryan Moore' 'Brandon Hagy'\n",
      " 'Chris Gotterup' 'Curtis Thompson' 'Derek Ernst' 'Chris Naegel'\n",
      " 'Hayden Buckley' 'Preston Stanley' 'Patrick Flavin' 'Fabián Gómez'\n",
      " 'Kelly Kraft' 'Aaron Baddeley' 'Tommy Gainey' 'Dylan Wu'\n",
      " 'Kevin Streelman' 'Satoshi Kodaira' 'Morgan Hoffmann' 'Bo Hoag'\n",
      " 'Austin Cook' 'Ricky Barnes' 'Jonathan Byrd' 'Omar Uresti'\n",
      " 'Matt Fitzpatrick' 'Brett Drewitt' 'Matt Wallace' 'Robert Streb'\n",
      " 'Jim Knous' 'Aaron Cockerill' 'Jonas Blixt' 'Danny Willett'\n",
      " 'Chase Seiffert' 'Ben Martin' \"Sean O'Hair\" 'Scott Piercy'\n",
      " 'Cameron Percy' 'Rafa Cabrera Bello' 'Ryan Armour' 'Bo Van Pelt'\n",
      " 'Ben Crane' 'J.J. Henry' 'Adri Arnaus' 'Bernd Wiesberger' 'Ryan Fox'\n",
      " 'Stewart Cink' 'Bubba Watson' 'Brooks Koepka' 'Gary Woodland'\n",
      " 'Shaun Norris' 'Laurie Canter' 'Rikuya Hoshino' 'Thomas Pieters'\n",
      " 'Robert MacIntyre' 'Louis Oosthuizen' 'Tyrrell Hatton' 'Justin Harding'\n",
      " 'Michael Thorbjornsen' 'Kevin Tway' 'Matthew Wolff' 'Ben Silverman'\n",
      " 'Kevin Kisner' 'William McGirt' 'Harris English' 'Rasmus Hojgaard'\n",
      " 'Richy Werenski' 'Scott Gutschewski' 'Jim Herman' 'Richard Bland'\n",
      " 'Doc Redman' 'Henrik Stenson' 'Austin Eckroat' 'Sung Kang' 'Brian Stuard'\n",
      " 'Taylor Pendrith' 'Taylor Montgomery' 'Jimmy Walker' 'Robert Garrigus'\n",
      " 'Mark Baldwin' 'Chris Stroud' 'Ben Kohles' 'Johnson Wagner' 'David Hearn'\n",
      " 'Grayson Murray' 'D.J. Trahan' 'Nick Watney' 'Paul Casey'\n",
      " 'Erik van Rooyen' 'Sergio Garcia' 'Davis Thompson' 'Lee Westwood'\n",
      " 'Padraig Harrington' 'John Pak' 'Sam Stevens' 'Martin Contini'\n",
      " 'Andrew Kozan' 'Rick Lamb' 'Joshua Creel' 'Brian Gay' 'Ben Griffin'\n",
      " 'Yannik Paul' 'Blake McShea' 'Scott Brown']\n",
      "\n",
      "Unique values for column 'avgDriveDist':\n",
      "[319.5 317.4 315.3 313.  311.1 310.6 310.5 310.  309.5 308.8 308.1 307.9\n",
      " 306.9 306.3 306.  305.4 304.  303.9 303.4 303.3 303.1 299.9 299.8 298.8\n",
      " 298.5 298.3 296.5 296.4 296.1 295.6 295.3 295.1 295.  294.9 294.6 294.5\n",
      " 294.1 294.  293.8 292.5 291.5 291.4 291.1 290.8 290.5 290.4 290.3 289.9\n",
      " 289.8 288.1 287.9 287.8 287.4 287.3 285.9 285.8 284.3 283.5 279.9 277.5\n",
      " 277.  271.1 270.6 332.8 329.5 329.4 326.9 326.  325.6 325.1 324.4 323.1\n",
      " 322.8 322.4 322.1 318.6 318.1 317.  316.6 315.9 315.1 314.9 314.  313.4\n",
      " 312.8 312.6 312.4 312.3 311.6 311.4 310.9 310.1 309.4 309.1 309.  308.9\n",
      " 308.5 308.3 308.  307.5 307.  306.8 306.5 306.1 305.9 305.6 305.  304.6\n",
      " 304.4 303.5 302.8 302.5 301.5 298.  297.5 297.1 297.  296.6 293.1 292.9\n",
      " 292.8 291.8 290.6 283.9 323.6 321.3 318.8 317.5 317.1 316.3 315.6 315.4\n",
      " 314.1 313.8 313.3 311.5 311.  310.3 306.6 305.5 302.6 302.1 301.6 301.4\n",
      " 300.6 299.1 298.6 297.3 296.9 296.8 296.  293.9 292.4 290.9 289.5 288.9\n",
      " 287.  286.9 282.9 279.6 278.8 273.8 271.4 268.3 315.5 314.5 305.8 305.1\n",
      " 304.1 302.  300.9 299.4 298.1 297.9 293.  291.6 291.3 291.  289.3 289.1\n",
      " 288.6 288.4 287.5 286.8 286.5 286.3 286.1 286.  285.  284.9 283.6 282.8\n",
      " 281.1 279.5 277.8 274.6 266.8 262.8 342.4 335.1 333.6 330.4 330.  329.6\n",
      " 326.6 322.5 320.3 316.8 313.9 311.3 310.4 307.6 304.8 303.6 301.8 299.5\n",
      " 299.  297.8 295.5 293.4 291.9 288.  282.1 280.1 276.4 316.4 312.9 312.\n",
      " 308.6 307.3 304.5 303.  302.4 301.9 300.8 300.4 297.4 294.4 294.3 289.4\n",
      " 286.6 285.5 284.1 284.  347.5 338.6 337.8 336.9 336.3 335.9 335.6 335.5\n",
      " 333.4 331.1 330.8 330.6 330.3 330.1 329.3 327.8 327.6 327.4 327.1 327.\n",
      " 325.8 324.9 323.9 323.8 321.9 321.6 321.5 320.  318.  317.6 317.3 316.5\n",
      " 314.6 314.3 313.6 313.5 311.8 310.8 307.8 305.3 302.3 296.3 328.5 316.1\n",
      " 308.4 298.9 295.9 287.6 286.4 285.6 285.4 283.8 282.4 282.3 282.  281.9\n",
      " 281.5 278.  275.4 342.6 337.5 329.1 328.9 328.8 323.5 321.1 320.9 319.9\n",
      " 319.3 313.1 312.5 304.9 302.9 301.1 301.  297.6 333.3 327.9 326.3 325.3\n",
      " 324.8 324.1 323.  322.9 322.3 321.8 321.  320.5 319.4 316.9 315.  309.8\n",
      " 307.1 300.  299.6 298.4 325.  312.1 309.3 301.3 293.6 290.  288.5 288.3\n",
      " 285.1 281.4 273.5 314.8 309.6 300.5 300.3 299.3 295.8 292.3 292.  290.1\n",
      " 284.8 284.4 280.9 275.6 262.1   nan 328.4 320.1 317.9 314.4 311.9 304.3\n",
      " 293.5 289.6 270.3 330.5 322.6 318.9 318.3 278.1 277.4 276.  275.  309.9\n",
      " 295.4 293.3 283.  282.5 279.4 276.1 275.3 272.6 269.1 283.1 280.3 280.\n",
      " 279.3 278.9 278.6 278.3 276.9 275.9 274.8 274.5 274.1 274.  273.1 272.5\n",
      " 272.4 271.9 270.1 289.  288.8 287.1 284.6 283.4 275.1 340.8 340.4 339.5\n",
      " 331.4 329.9 329.8 327.3 326.8 325.9 324.6 323.4 321.4 320.4 319.  318.4\n",
      " 317.8]\n",
      "\n",
      "Unique values for column 'drivePct':\n",
      "[60.71 58.93 73.21 62.5  66.07 69.64 57.14 64.29 53.57 67.86 50.   76.79\n",
      " 75.   71.43 48.21 55.36 46.43 83.93 32.14 41.07 44.64 51.79 80.36 82.14\n",
      " 39.29 78.57 37.5  42.86 85.71 51.92 67.31 71.15 65.38 36.54 61.54 63.46\n",
      " 57.69 69.23 48.08 73.08 59.62 78.85 42.31 53.85 55.77 46.15 76.92 38.46\n",
      " 35.71 65.45 58.18 63.64 69.09 67.27 54.55 60.   70.91 74.55 52.73 72.73\n",
      " 85.45 61.82 76.36 81.82 80.   78.18   nan 33.93 30.36]\n",
      "\n",
      "Unique values for column 'avgPuttsPerRound':\n",
      "[28.   26.5  28.5  27.   28.75 29.5  28.25 27.25 29.   26.   27.75 25.5\n",
      " 27.5  29.25 29.75 26.25 25.75 24.25 24.   26.75 30.5  31.5  30.   30.25\n",
      " 30.75 25.25 24.75 31.25 31.   31.75 32.25 32.   33.   32.75   nan 32.5\n",
      " 33.25]\n",
      "\n",
      "Unique values for column 'onePuttPct':\n",
      "[43.06 47.22 44.44 33.33 41.67 36.11 38.89 50.   56.94 40.28 45.83 51.39\n",
      " 54.17 37.5  52.78 31.94 48.61 61.11 34.72 59.72 30.56 55.56 29.17 27.78\n",
      " 25.   26.39 58.33 23.61 19.44   nan 20.83]\n",
      "\n",
      "Unique values for column 'driveSG':\n",
      "[ 7.240e-01  7.870e-01  1.554e+00  3.520e-01  1.297e+00  1.407e+00\n",
      "  1.139e+00 -9.680e-01  9.620e-01 -2.510e-01 -1.101e+00 -1.177e+00\n",
      " -1.910e-01  9.340e-01  9.700e-02  8.460e-01  1.061e+00 -2.119e+00\n",
      "  8.500e-01  3.600e-02 -1.650e-01  5.720e-01  8.470e-01  3.700e-02\n",
      "  3.670e-01 -4.670e-01  4.690e-01  7.590e-01  1.506e+00  4.480e-01\n",
      " -1.298e+00  7.960e-01 -7.250e-01  2.400e-01  6.330e-01 -7.510e-01\n",
      " -2.760e-01  9.240e-01  7.720e-01 -5.360e-01 -2.415e+00  2.260e-01\n",
      " -2.580e-01  7.070e-01 -5.000e-03 -3.960e-01  1.700e-02  1.250e+00\n",
      "  1.640e-01 -1.227e+00 -4.130e-01  3.490e-01  7.560e-01 -7.020e-01\n",
      "  7.570e-01 -1.160e-01 -2.450e+00 -1.324e+00 -3.010e-01  3.570e-01\n",
      " -1.400e-02  1.390e-01 -7.400e-02 -6.030e-01 -3.790e-01 -7.310e-01\n",
      " -4.300e-01  2.050e-01 -4.200e-02  5.160e-01  9.790e-01  1.185e+00\n",
      " -6.000e-03  7.730e-01  5.770e-01  1.052e+00 -3.000e-01  3.320e-01\n",
      "  2.910e-01  9.500e-01  2.860e-01  6.590e-01 -1.550e-01 -9.830e-01\n",
      "  7.020e-01 -1.260e-01 -5.800e-02 -5.830e-01 -2.300e-02  4.270e-01\n",
      "  1.048e+00  1.160e-01  8.680e-01 -1.100e-01 -5.510e-01 -3.390e-01\n",
      "  6.780e-01  5.590e-01 -2.190e-01  3.500e-02 -1.000e-02  5.250e-01\n",
      "  6.940e-01 -1.760e-01  9.430e-01  4.290e-01  1.190e-01 -1.850e-01\n",
      "  5.660e-01  7.940e-01  7.000e-02 -1.690e-01  7.760e-01 -4.660e-01\n",
      "  1.610e-01  5.690e-01  1.000e+00 -9.930e-01 -4.210e-01 -1.890e-01\n",
      "  5.410e-01 -9.200e-02  1.990e-01  9.100e-01 -1.620e-01  1.098e+00\n",
      "  4.870e-01 -1.900e-02 -4.040e-01 -3.710e-01  4.010e-01  2.070e-01\n",
      " -1.700e-02  5.490e-01 -7.600e-02  5.820e-01 -3.590e-01 -5.290e-01\n",
      " -7.590e-01 -1.113e+00 -7.270e-01 -1.800e-02 -4.000e-02 -3.830e-01\n",
      " -6.400e-01 -1.530e-01 -6.300e-02  5.000e-03 -6.800e-01  1.029e+00\n",
      "  5.860e-01  7.140e-01  2.820e-01  1.450e-01 -3.680e-01  6.170e-01\n",
      " -1.050e-01  1.320e-01  3.930e-01  3.260e-01 -2.330e-01  5.100e-01\n",
      " -2.200e-02  7.290e-01  4.360e-01  7.200e-01  2.380e-01  1.037e+00\n",
      "  3.430e-01  9.200e-02 -3.300e-02 -8.300e-02  8.280e-01 -3.820e-01\n",
      "  6.650e-01  2.970e-01  1.710e-01  4.230e-01 -1.800e-01  2.780e-01\n",
      " -3.840e-01 -1.418e+00 -8.110e-01  5.800e-02  2.040e-01  2.450e-01\n",
      " -6.750e-01  8.700e-02 -8.520e-01 -4.750e-01 -6.000e-02  7.800e-02\n",
      " -3.860e-01 -2.200e-01 -3.780e-01 -3.250e-01 -4.260e-01 -9.610e-01\n",
      "  5.900e-02  3.790e-01 -5.250e-01 -2.470e-01  6.600e-01  1.790e-01\n",
      " -2.600e-02  6.000e-01 -9.690e-01  2.580e-01 -1.087e+00 -3.100e-02\n",
      " -3.540e-01  8.900e-01 -5.420e-01 -1.630e-01  1.040e-01  9.800e-02\n",
      "  1.920e-01  1.166e+00 -3.030e-01  3.050e-01 -2.700e-02  5.260e-01\n",
      "  8.630e-01 -5.970e-01  6.540e-01  1.177e+00  3.680e-01  2.060e-01\n",
      " -1.043e+00  1.110e-01 -6.320e-01 -8.680e-01  1.780e-01 -2.850e-01\n",
      " -1.490e-01  5.950e-01 -4.890e-01  1.284e+00 -1.900e-01  8.380e-01\n",
      " -5.070e-01  1.600e-01  8.620e-01  1.300e-01  6.570e-01  4.800e-01\n",
      "  4.050e-01 -2.970e-01 -1.073e+00 -5.450e-01 -9.080e-01  4.560e-01\n",
      "  1.100e-01  5.310e-01  4.490e-01 -3.200e-02  1.180e-01 -1.230e-01\n",
      "  1.870e-01 -1.280e-01  2.940e-01  1.050e-01 -1.045e+00  7.110e-01\n",
      "  8.390e-01 -4.330e-01  6.480e-01 -5.040e-01  2.650e-01  4.700e-02\n",
      " -4.440e-01  4.260e-01 -9.220e-01 -2.360e-01 -7.760e-01 -3.320e-01\n",
      "  9.440e-01  1.174e+00  2.470e-01  1.025e+00  1.086e+00  6.090e-01\n",
      "  8.570e-01  6.200e-02  8.150e-01 -9.000e-01 -3.670e-01  2.430e-01\n",
      "  1.700e-01  8.100e-02  1.102e+00  7.160e-01  6.560e-01 -8.220e-01\n",
      "  3.400e-01  1.490e-01 -3.800e-02  2.440e-01  3.470e-01  5.270e-01\n",
      "  7.050e-01  8.960e-01  1.006e+00  6.500e-02  4.190e-01  2.830e-01\n",
      "  1.042e+00  1.410e-01 -5.710e-01 -8.000e-02  5.380e-01 -1.500e-01\n",
      "  4.500e-01 -2.010e-01  1.950e-01  4.220e-01  6.900e-01  1.020e-01\n",
      " -1.410e-01  4.990e-01 -1.181e+00  7.970e-01  3.880e-01  1.350e-01\n",
      " -3.800e-01  2.610e-01 -3.700e-02 -1.337e+00 -2.860e-01  9.400e-02\n",
      "  2.460e-01  2.030e-01 -8.370e-01 -6.880e-01 -9.850e-01  1.055e+00\n",
      "  1.256e+00  1.275e+00 -8.530e-01  9.350e-01 -2.020e-01  1.240e+00\n",
      "  1.005e+00  9.670e-01  1.268e+00 -4.510e-01  6.050e-01  3.440e-01\n",
      "  9.880e-01  9.920e-01  8.020e-01  6.140e-01  1.036e+00  6.410e-01\n",
      "  6.990e-01  4.280e-01 -6.410e-01  3.830e-01  1.630e-01  7.430e-01\n",
      " -2.790e-01  6.240e-01  5.790e-01 -1.130e-01  4.090e-01  5.340e-01\n",
      " -2.380e-01 -6.850e-01  4.380e-01  8.100e-01  4.070e-01 -1.174e+00\n",
      "  1.330e-01  7.610e-01 -5.770e-01  3.820e-01 -1.132e+00  2.390e-01\n",
      " -1.750e-01  6.690e-01 -8.350e-01  2.980e-01  4.780e-01  7.400e-02\n",
      " -2.690e-01 -2.950e-01 -6.450e-01  4.830e-01 -3.450e-01 -8.380e-01\n",
      " -4.460e-01 -5.850e-01 -6.820e-01 -1.355e+00  1.401e+00  1.213e+00\n",
      "  1.833e+00 -2.440e-01  1.756e+00  1.460e-01 -3.080e-01  7.400e-01\n",
      "  1.789e+00  1.518e+00  5.450e-01  2.660e-01 -6.490e-01  5.020e-01\n",
      "  3.000e-02  8.040e-01  1.261e+00  3.870e-01 -2.100e-02  3.140e-01\n",
      "  3.000e-01  1.880e-01  4.080e-01  4.880e-01  4.750e-01  3.690e-01\n",
      "  2.200e-01  3.650e-01 -2.460e-01  3.310e-01  4.760e-01  3.420e-01\n",
      " -1.061e+00  7.010e-01 -4.180e-01 -1.600e-01 -3.340e-01  6.980e-01\n",
      "  4.600e-02  1.262e+00  8.270e-01 -3.580e-01  3.860e-01  1.570e-01\n",
      " -9.760e-01  6.820e-01 -3.270e-01  1.540e-01 -2.150e-01  4.960e-01\n",
      "  5.850e-01 -2.390e-01 -3.310e-01 -1.880e-01 -3.650e-01 -7.000e-01\n",
      " -6.810e-01 -6.500e-02 -9.780e-01  1.420e-01 -7.110e-01 -5.300e-01\n",
      " -2.400e-01  1.300e-02  5.990e-01  1.860e-01  7.770e-01  3.630e-01\n",
      "  6.700e-01  8.990e-01 -8.060e-01  6.250e-01  1.229e+00  9.040e-01\n",
      " -6.390e-01 -4.770e-01 -1.930e-01  3.560e-01  1.481e+00 -2.740e-01\n",
      "  1.410e+00  1.360e-01  1.165e+00  7.090e-01 -4.740e-01  1.161e+00\n",
      " -1.290e-01 -3.420e-01  9.370e-01 -7.870e-01  7.500e-01  1.082e+00\n",
      " -3.230e-01 -5.230e-01  4.700e-01 -7.000e-03  4.120e-01  1.740e-01\n",
      "  4.030e-01 -4.800e-01  2.540e-01 -1.120e-01 -8.400e-02  2.350e-01\n",
      "  3.230e-01  2.300e-01  3.580e-01 -4.570e-01  7.190e-01  6.300e-02\n",
      " -1.193e+00 -9.550e-01 -4.400e-02 -3.200e-01  2.230e-01  5.300e-02\n",
      "  6.460e-01 -9.770e-01  5.470e-01 -1.000e+00  9.540e-01  3.200e-01\n",
      " -7.380e-01 -1.270e-01 -1.070e-01  5.150e-01  4.410e-01  5.100e-02\n",
      "  3.380e-01  1.480e-01  7.680e-01  4.970e-01 -5.000e-02  3.550e-01\n",
      "  7.080e-01  4.450e-01  9.700e-01 -4.590e-01  4.100e-02  6.060e-01\n",
      "  1.442e+00 -4.090e-01 -4.420e-01 -4.920e-01  8.200e-02  6.310e-01\n",
      "  1.015e+00  1.000e-03  3.960e-01  5.200e-01  2.130e-01 -4.100e-01\n",
      "  9.300e-01 -5.900e-02  5.000e-01  6.530e-01  8.250e-01 -6.590e-01\n",
      "  1.750e-01  6.870e-01  2.930e-01  5.420e-01 -6.110e-01 -1.740e-01\n",
      "  6.200e-01  5.370e-01 -3.720e-01 -5.740e-01  4.390e-01 -1.137e+00\n",
      "  2.790e-01 -7.140e-01 -7.410e-01 -5.020e-01 -6.800e-02 -2.410e-01\n",
      "  3.800e-01 -1.360e-01  2.500e-02 -1.390e-01  1.580e-01  1.242e+00\n",
      "  1.435e+00  1.215e+00  1.985e+00  1.305e+00  1.236e+00 -5.950e-01\n",
      " -2.720e-01  6.670e-01  9.090e-01  9.230e-01  9.390e-01  6.370e-01\n",
      " -5.620e-01  1.840e-01  6.300e-01  6.620e-01 -5.870e-01  9.720e-01\n",
      "  7.440e-01  7.310e-01  1.371e+00 -1.100e-02  1.259e+00  2.000e-01\n",
      " -6.570e-01  8.000e-02 -1.450e-01 -2.560e-01  6.210e-01 -3.630e-01\n",
      "  1.970e-01  1.200e-02 -2.800e-01  2.020e-01  3.770e-01  1.163e+00\n",
      " -4.700e-01 -2.123e+00  1.017e+00 -2.700e-01  5.070e-01 -1.110e+00\n",
      " -9.120e-01 -1.840e-01 -1.144e+00 -1.830e-01  8.910e-01  1.279e+00\n",
      "  1.249e+00  5.740e-01  1.980e-01  1.072e+00 -3.090e-01  1.090e+00\n",
      "  6.910e-01  9.150e-01  1.670e-01  6.270e-01  5.880e-01  4.930e-01\n",
      " -1.680e-01  1.164e+00  1.154e+00 -3.040e-01  9.310e-01  1.100e-02\n",
      " -2.610e-01 -2.400e-02  6.290e-01  3.780e-01  9.480e-01 -5.100e-02\n",
      "  8.930e-01  6.100e-02 -7.970e-01  1.143e+00 -2.800e-02  4.170e-01\n",
      " -1.140e-01 -2.000e-01 -2.220e-01  3.800e-02  3.150e-01  1.680e-01\n",
      "  9.500e-02 -8.940e-01 -2.660e-01  2.310e-01 -3.220e-01 -1.712e+00\n",
      " -4.050e-01  5.000e-02 -5.200e-02 -3.360e-01 -3.600e-02 -5.610e-01\n",
      " -5.260e-01  2.730e-01 -1.959e+00 -5.180e-01 -1.086e+00 -7.820e-01\n",
      " -9.960e-01  3.000e-03 -2.320e-01  1.128e+00  4.500e-02 -1.250e-01\n",
      "  1.341e+00 -2.550e-01  7.860e-01  5.300e-01  5.960e-01  5.090e-01\n",
      "  4.240e-01 -3.560e-01  4.610e-01  4.810e-01  4.330e-01  3.760e-01\n",
      " -5.920e-01 -1.021e+00 -6.600e-02  4.250e-01  2.340e-01 -1.710e-01\n",
      " -3.050e-01 -6.070e-01  5.550e-01 -1.949e+00 -2.240e-01  7.200e-02\n",
      "  5.570e-01 -4.020e-01 -2.710e-01 -2.500e-02 -6.470e-01  9.800e-01\n",
      "  9.010e-01 -4.880e-01  2.320e-01  3.480e-01        nan  1.289e+00\n",
      "  6.660e-01  5.210e-01  1.720e-01 -5.050e-01 -9.900e-02 -2.680e-01\n",
      "  1.230e-01 -4.000e-03  1.301e+00 -2.110e-01  3.640e-01  5.510e-01\n",
      "  2.080e-01  5.120e-01  4.200e-01  2.100e-01  8.260e-01  2.560e-01\n",
      "  2.640e-01 -4.930e-01  1.130e-01  1.620e-01 -2.060e-01  2.920e-01\n",
      "  6.230e-01 -5.400e-02  5.600e-02  4.140e-01 -1.810e-01 -2.260e-01\n",
      "  8.900e-02  3.610e-01 -3.190e-01 -2.230e-01  2.400e-02 -4.250e-01\n",
      "  1.479e+00 -2.480e-01 -2.280e-01  4.900e-01 -1.108e+00 -9.730e-01\n",
      "  2.000e-02 -7.580e-01 -3.600e-01 -6.900e-02 -1.163e+00 -9.740e-01\n",
      "  9.590e-01  1.146e+00  5.760e-01  1.770e-01  1.040e+00  2.180e-01\n",
      "  1.134e+00  4.580e-01 -1.560e-01  7.470e-01 -9.400e-02  1.220e+00\n",
      " -6.190e-01 -8.800e-02  3.990e-01  4.300e-02 -5.790e-01  1.051e+00\n",
      " -4.060e-01  8.000e-03  6.440e-01  7.450e-01 -1.640e-01  4.320e-01\n",
      " -8.930e-01  1.172e+00  7.890e-01  8.830e-01 -8.090e-01 -1.220e-01\n",
      " -1.730e-01 -1.568e+00 -1.030e-01 -5.200e-01  5.600e-01  8.730e-01\n",
      " -6.280e-01 -3.970e-01 -1.109e+00  2.850e-01  8.240e-01  7.700e-02\n",
      "  4.540e-01  1.280e+00  9.160e-01 -3.900e-01  2.420e-01 -2.920e-01\n",
      "  3.110e-01 -7.430e-01 -1.078e+00  3.100e-01  2.990e-01 -1.870e-01\n",
      " -8.000e-01 -2.450e-01 -6.100e-02 -4.000e-01 -1.224e+00 -1.700e-01\n",
      "  4.770e-01 -5.690e-01  1.003e+00  4.210e-01  5.170e-01 -4.500e-01\n",
      " -9.100e-02  8.120e-01 -6.740e-01  1.065e+00  2.960e-01  2.530e-01\n",
      " -2.640e-01  5.750e-01 -8.490e-01 -9.880e-01  1.090e-01  9.630e-01\n",
      "  1.070e-01  1.800e-01  6.390e-01  3.910e-01 -6.090e-01  4.630e-01\n",
      "  8.710e-01 -2.900e-02 -1.577e+00 -1.918e+00 -3.240e-01  3.120e-01\n",
      " -1.069e+00  1.010e-01 -6.170e-01 -2.250e-01  9.380e-01 -9.500e-01\n",
      " -5.780e-01  1.385e+00  1.175e+00  1.904e+00  5.670e-01  8.130e-01\n",
      "  1.095e+00  7.700e-01  2.500e-01  1.112e+00  1.806e+00  1.070e+00\n",
      " -1.293e+00 -2.080e-01 -1.550e+00 -1.031e+00  8.590e-01  1.271e+00\n",
      " -8.590e-01  5.480e-01  1.173e+00  1.483e+00  8.540e-01 -3.760e-01\n",
      "  4.150e-01 -4.780e-01 -3.640e-01 -8.080e-01  2.120e-01 -1.433e+00\n",
      " -6.920e-01  1.150e-01  7.370e-01  6.750e-01 -6.310e-01 -2.980e-01\n",
      " -4.070e-01 -1.540e-01  4.950e-01  2.000e-03  3.500e-01  2.620e-01\n",
      "  7.350e-01  8.440e-01  9.170e-01 -9.210e-01 -3.000e-03 -4.520e-01\n",
      "  5.220e-01  1.370e-01  3.180e-01  8.140e-01 -7.210e-01 -4.450e-01\n",
      "  1.800e-02 -7.800e-02  3.100e-02  1.019e+00  7.650e-01  5.630e-01\n",
      " -1.449e+00 -8.860e-01  8.210e-01 -4.230e-01  1.156e+00  1.080e+00\n",
      "  4.660e-01 -3.060e-01 -1.398e+00 -8.150e-01 -9.840e-01  3.980e-01\n",
      "  5.140e-01 -5.760e-01 -1.300e-02  7.390e-01 -4.550e-01  5.560e-01\n",
      "  1.107e+00 -5.440e-01 -6.150e-01 -1.470e-01 -1.317e+00 -1.010e-01\n",
      " -1.079e+00  4.910e-01  5.360e-01  6.730e-01  1.468e+00  5.910e-01\n",
      " -1.189e+00  5.800e-01 -1.209e+00 -4.950e-01  4.640e-01 -3.500e-02\n",
      " -4.540e-01  1.290e+00 -2.630e-01  3.170e-01  9.250e-01  8.840e-01\n",
      "  5.890e-01  8.610e-01 -1.200e-02 -3.000e-02 -4.220e-01  1.031e+00\n",
      " -8.100e-02  6.800e-01 -3.930e-01  3.540e-01  3.890e-01  1.267e+00\n",
      "  8.330e-01 -3.150e-01  1.650e-01 -1.580e-01 -4.240e-01 -1.218e+00\n",
      "  1.250e-01 -6.700e-02 -5.300e-02 -8.200e-02  2.690e-01 -8.630e-01\n",
      " -1.431e+00  2.870e-01 -2.029e+00  1.140e-01 -1.085e+00  3.400e-02]\n",
      "\n",
      "Unique values for column 'puttsSG':\n",
      "[-0.529 -0.752 -0.045 ...  0.656  0.191  1.677]\n",
      "\n",
      "Unique values for column 'avgScore':\n",
      "[70.51  69.435 70.173 70.435 69.935 69.76  70.685 71.51  72.435 71.185\n",
      " 71.685 70.423 68.435 69.685 70.76  71.923 70.935 70.26  72.935 71.435\n",
      " 70.185 72.185 69.673 71.26  69.185 68.76  71.01  68.51  69.923 71.423\n",
      " 70.673 70.923 73.185 72.01  69.423 71.935 72.26  69.01  73.01  71.76\n",
      " 72.217 71.717 70.467 71.217 71.467 71.967 70.717 73.217 69.217 68.717\n",
      " 70.217 70.967 72.967 72.467 73.967 73.467 68.967 69.967 72.717 69.467\n",
      " 68.467 69.717 66.878 69.628 69.378 68.878 70.378 70.628 67.378 69.128\n",
      " 68.628 67.878 71.128 70.878 69.878 68.378 71.378 72.878 70.128 68.128\n",
      " 67.128 69.901 72.651 70.401 71.401 70.651 69.151 72.151 73.651 69.401\n",
      " 71.901 71.151 72.401 71.651 68.651 70.151 72.901 70.901 73.901 67.651\n",
      " 74.651 71.834 68.084 72.084 68.334 68.584 70.584 67.834 69.834 69.334\n",
      " 70.334 69.084 68.834 69.584 72.334 71.084 70.084 67.084 71.584 72.584\n",
      " 70.834 64.966 67.216 68.966 65.966 71.216 68.216 71.716 65.466 68.716\n",
      " 69.466 67.466 70.966 67.966 69.966 66.216 69.216 68.466 67.716 70.466\n",
      " 69.716 66.716 70.216 70.716 67.172 68.422 69.172 72.172 66.672 67.672\n",
      " 69.922 68.172 68.922 68.672 67.922 71.422 66.422 66.922 69.422 67.422\n",
      " 69.672 70.172 70.672 70.422 71.922 68.903 70.153 68.403 67.653 66.903\n",
      " 71.903 67.903 70.903 69.153 68.153 70.653 68.653 69.903 66.403 69.653\n",
      " 65.903 69.403 67.153 71.653 70.403 71.153 70.564 73.814 69.814 73.064\n",
      " 70.314 71.814 70.064 72.064 71.564 69.564 70.814 72.314 71.064 72.564\n",
      " 72.814 71.314 69.064 71.273 68.023 69.773 68.773 68.523 67.773 70.773\n",
      " 70.523 69.273 73.523 69.523 69.023 71.773 70.023 71.523 71.023 72.273\n",
      " 74.023 72.523 70.273 72.023 68.273 71.347 72.847 69.347 69.815 72.347\n",
      " 71.597 71.815 70.597 69.847 69.315 69.565 69.097 72.565 71.315 72.597\n",
      " 70.847 70.097 70.065 69.597 70.347 71.847 70.315 70.815 70.565 73.065\n",
      " 71.565 73.815 71.097 73.097 73.347 75.347 74.315 71.065 73.847 69.818\n",
      " 71.068 68.975 70.725 68.458 70.708 70.568 70.975 69.708 70.475 70.208\n",
      " 68.708 70.958 72.208 68.958 71.208 69.225 69.568 67.568 70.458 69.725\n",
      " 71.318 71.458 70.225 69.068 69.458 68.818 72.068 70.068 71.475 68.475\n",
      " 70.318 69.958 69.208 70.818    nan 69.86  70.86  69.11  68.36  71.11\n",
      " 69.61  71.61  70.11  67.36  70.61  68.61  71.36  68.86  70.36  72.11\n",
      " 68.11  69.36  72.61  72.36  71.86  66.86  73.11  70.204 71.704 69.704\n",
      " 71.454 72.454 70.454 71.954 71.204 68.704 68.954 70.704 70.954 69.204\n",
      " 73.204 69.454 69.954 72.704 73.954 73.454 74.704 72.204 69.448 69.948\n",
      " 68.948 69.698 66.698 68.698 69.198 67.698 66.198 70.448 68.198 66.948\n",
      " 70.698 70.198 67.948 66.448 68.448 71.698 70.154 70.404 73.404 71.654\n",
      " 71.904 69.404 69.904 70.904 70.654 72.154 68.404 71.154 72.654 68.904\n",
      " 72.904 71.404 69.654 68.654 73.904 72.404 69.154 70.051 71.051 68.551\n",
      " 71.551 70.301 69.551 70.551 69.801 69.301 73.051 70.801 68.301 71.801\n",
      " 68.801 71.301 72.301 72.551 70.152 68.402 68.902 69.652 69.152 68.652\n",
      " 70.652 71.902 70.902 69.402 67.402 67.652 68.152 70.402 69.902 67.152\n",
      " 71.152 71.652 71.402 65.902]\n",
      "\n",
      "Unique values for column 'tournament':\n",
      "['The American Express' 'AT&T Byron Nelson' 'Charles Schwab Challenge'\n",
      " 'Memorial Tournament' 'John Deere Classic' 'RBC Canadian Open'\n",
      " 'PGA Championship' 'Travelers Championship' 'Valero Texas Open'\n",
      " 'WM Phoenix Open' 'Farmers Insurance Open' 'AT&T Pebble Beach Pro-Am'\n",
      " 'The Genesis Invitational' 'Arnold Palmer Invitational'\n",
      " 'The Honda Classic' 'THE PLAYERS Championship' 'RBC Heritage'\n",
      " 'Wyndham Championship']\n",
      "\n",
      "Unique values for column 'courseYards':\n",
      "[7129 7468 7209 7533 7289 7014 7556 6852 7438 7261 7512 6990 7322 7466\n",
      " 7125 7256 7191 7131]\n",
      "\n"
     ]
    }
   ],
   "execution_count": 76
  },
  {
   "metadata": {
    "ExecuteTime": {
     "end_time": "2025-03-31T20:46:06.688236Z",
     "start_time": "2025-03-31T20:46:06.683964Z"
    }
   },
   "cell_type": "code",
   "source": "pga_2022_Stats.dtypes",
   "id": "204e449eded1ae38",
   "outputs": [
    {
     "data": {
      "text/plain": [
       "playerName           object\n",
       "avgDriveDist        float64\n",
       "drivePct            float64\n",
       "avgPuttsPerRound    float64\n",
       "onePuttPct          float64\n",
       "driveSG             float64\n",
       "puttsSG             float64\n",
       "avgScore            float64\n",
       "tournament           object\n",
       "courseYards           int64\n",
       "dtype: object"
      ]
     },
     "execution_count": 77,
     "metadata": {},
     "output_type": "execute_result"
    }
   ],
   "execution_count": 77
  },
  {
   "metadata": {
    "ExecuteTime": {
     "end_time": "2025-03-31T20:46:06.751604Z",
     "start_time": "2025-03-31T20:46:06.738695Z"
    }
   },
   "cell_type": "code",
   "source": "pga_2022_Stats.describe()",
   "id": "399f7ecde20650b5",
   "outputs": [
    {
     "data": {
      "text/plain": [
       "       avgDriveDist     drivePct  avgPuttsPerRound   onePuttPct      driveSG  \\\n",
       "count   1312.000000  1312.000000       1312.000000  1312.000000  1312.000000   \n",
       "mean     302.739939    60.741181         28.622332    40.793323     0.139089   \n",
       "std       14.168010     9.848863          1.412828     6.604041     0.630713   \n",
       "min      262.100000    30.360000         24.000000    19.440000    -2.450000   \n",
       "25%      292.900000    53.570000         27.750000    36.110000    -0.258750   \n",
       "50%      302.300000    60.710000         28.500000    41.670000     0.160000   \n",
       "75%      312.100000    67.860000         29.500000    45.830000     0.569000   \n",
       "max      347.500000    85.710000         33.250000    61.110000     1.985000   \n",
       "\n",
       "           puttsSG     avgScore  courseYards  \n",
       "count  1312.000000  1312.000000  1323.000000  \n",
       "mean      0.274461    70.183459  7267.745276  \n",
       "std       0.873682     1.496665   199.120120  \n",
       "min      -3.088000    64.966000  6852.000000  \n",
       "25%      -0.302500    69.152750  7129.000000  \n",
       "50%       0.255000    70.154000  7261.000000  \n",
       "75%       0.846250    71.205000  7466.000000  \n",
       "max       3.947000    75.347000  7556.000000  "
      ],
      "text/html": [
       "<div>\n",
       "<style scoped>\n",
       "    .dataframe tbody tr th:only-of-type {\n",
       "        vertical-align: middle;\n",
       "    }\n",
       "\n",
       "    .dataframe tbody tr th {\n",
       "        vertical-align: top;\n",
       "    }\n",
       "\n",
       "    .dataframe thead th {\n",
       "        text-align: right;\n",
       "    }\n",
       "</style>\n",
       "<table border=\"1\" class=\"dataframe\">\n",
       "  <thead>\n",
       "    <tr style=\"text-align: right;\">\n",
       "      <th></th>\n",
       "      <th>avgDriveDist</th>\n",
       "      <th>drivePct</th>\n",
       "      <th>avgPuttsPerRound</th>\n",
       "      <th>onePuttPct</th>\n",
       "      <th>driveSG</th>\n",
       "      <th>puttsSG</th>\n",
       "      <th>avgScore</th>\n",
       "      <th>courseYards</th>\n",
       "    </tr>\n",
       "  </thead>\n",
       "  <tbody>\n",
       "    <tr>\n",
       "      <th>count</th>\n",
       "      <td>1312.000000</td>\n",
       "      <td>1312.000000</td>\n",
       "      <td>1312.000000</td>\n",
       "      <td>1312.000000</td>\n",
       "      <td>1312.000000</td>\n",
       "      <td>1312.000000</td>\n",
       "      <td>1312.000000</td>\n",
       "      <td>1323.000000</td>\n",
       "    </tr>\n",
       "    <tr>\n",
       "      <th>mean</th>\n",
       "      <td>302.739939</td>\n",
       "      <td>60.741181</td>\n",
       "      <td>28.622332</td>\n",
       "      <td>40.793323</td>\n",
       "      <td>0.139089</td>\n",
       "      <td>0.274461</td>\n",
       "      <td>70.183459</td>\n",
       "      <td>7267.745276</td>\n",
       "    </tr>\n",
       "    <tr>\n",
       "      <th>std</th>\n",
       "      <td>14.168010</td>\n",
       "      <td>9.848863</td>\n",
       "      <td>1.412828</td>\n",
       "      <td>6.604041</td>\n",
       "      <td>0.630713</td>\n",
       "      <td>0.873682</td>\n",
       "      <td>1.496665</td>\n",
       "      <td>199.120120</td>\n",
       "    </tr>\n",
       "    <tr>\n",
       "      <th>min</th>\n",
       "      <td>262.100000</td>\n",
       "      <td>30.360000</td>\n",
       "      <td>24.000000</td>\n",
       "      <td>19.440000</td>\n",
       "      <td>-2.450000</td>\n",
       "      <td>-3.088000</td>\n",
       "      <td>64.966000</td>\n",
       "      <td>6852.000000</td>\n",
       "    </tr>\n",
       "    <tr>\n",
       "      <th>25%</th>\n",
       "      <td>292.900000</td>\n",
       "      <td>53.570000</td>\n",
       "      <td>27.750000</td>\n",
       "      <td>36.110000</td>\n",
       "      <td>-0.258750</td>\n",
       "      <td>-0.302500</td>\n",
       "      <td>69.152750</td>\n",
       "      <td>7129.000000</td>\n",
       "    </tr>\n",
       "    <tr>\n",
       "      <th>50%</th>\n",
       "      <td>302.300000</td>\n",
       "      <td>60.710000</td>\n",
       "      <td>28.500000</td>\n",
       "      <td>41.670000</td>\n",
       "      <td>0.160000</td>\n",
       "      <td>0.255000</td>\n",
       "      <td>70.154000</td>\n",
       "      <td>7261.000000</td>\n",
       "    </tr>\n",
       "    <tr>\n",
       "      <th>75%</th>\n",
       "      <td>312.100000</td>\n",
       "      <td>67.860000</td>\n",
       "      <td>29.500000</td>\n",
       "      <td>45.830000</td>\n",
       "      <td>0.569000</td>\n",
       "      <td>0.846250</td>\n",
       "      <td>71.205000</td>\n",
       "      <td>7466.000000</td>\n",
       "    </tr>\n",
       "    <tr>\n",
       "      <th>max</th>\n",
       "      <td>347.500000</td>\n",
       "      <td>85.710000</td>\n",
       "      <td>33.250000</td>\n",
       "      <td>61.110000</td>\n",
       "      <td>1.985000</td>\n",
       "      <td>3.947000</td>\n",
       "      <td>75.347000</td>\n",
       "      <td>7556.000000</td>\n",
       "    </tr>\n",
       "  </tbody>\n",
       "</table>\n",
       "</div>"
      ]
     },
     "execution_count": 78,
     "metadata": {},
     "output_type": "execute_result"
    }
   ],
   "execution_count": 78
  },
  {
   "metadata": {
    "ExecuteTime": {
     "end_time": "2025-03-31T20:46:06.804887Z",
     "start_time": "2025-03-31T20:46:06.800860Z"
    }
   },
   "cell_type": "code",
   "source": [
    "# Drop any rows containing null values\n",
    "df = pga_2022_Stats.copy()\n",
    "df = df.dropna()"
   ],
   "id": "4eb6ae8b36a66d47",
   "outputs": [],
   "execution_count": 79
  },
  {
   "metadata": {
    "ExecuteTime": {
     "end_time": "2025-03-31T20:46:06.862088Z",
     "start_time": "2025-03-31T20:46:06.858023Z"
    }
   },
   "cell_type": "code",
   "source": "display_null_counts(df)",
   "id": "7c428d0e103a2d4e",
   "outputs": [
    {
     "name": "stdout",
     "output_type": "stream",
     "text": [
      "Number of null entries in each column:\n",
      "playerName          0\n",
      "avgDriveDist        0\n",
      "drivePct            0\n",
      "avgPuttsPerRound    0\n",
      "onePuttPct          0\n",
      "driveSG             0\n",
      "puttsSG             0\n",
      "avgScore            0\n",
      "tournament          0\n",
      "courseYards         0\n",
      "dtype: int64\n"
     ]
    }
   ],
   "execution_count": 80
  },
  {
   "metadata": {
    "ExecuteTime": {
     "end_time": "2025-03-31T20:46:06.910093Z",
     "start_time": "2025-03-31T20:46:06.906092Z"
    }
   },
   "cell_type": "code",
   "source": "df.drop(columns=['tournament', 'playerName'], inplace=True)",
   "id": "130ba3beb3b773a2",
   "outputs": [],
   "execution_count": 81
  },
  {
   "metadata": {
    "ExecuteTime": {
     "end_time": "2025-03-31T20:46:06.972393Z",
     "start_time": "2025-03-31T20:46:06.968573Z"
    }
   },
   "cell_type": "code",
   "source": "df.columns",
   "id": "98cddf142ebfc1d0",
   "outputs": [
    {
     "data": {
      "text/plain": [
       "Index(['avgDriveDist', 'drivePct', 'avgPuttsPerRound', 'onePuttPct', 'driveSG',\n",
       "       'puttsSG', 'avgScore', 'courseYards'],\n",
       "      dtype='object')"
      ]
     },
     "execution_count": 82,
     "metadata": {},
     "output_type": "execute_result"
    }
   ],
   "execution_count": 82
  },
  {
   "metadata": {
    "ExecuteTime": {
     "end_time": "2025-03-31T20:46:07.011167Z",
     "start_time": "2025-03-31T20:46:07.006845Z"
    }
   },
   "cell_type": "code",
   "source": "df.dtypes",
   "id": "93825ba356cf8b6e",
   "outputs": [
    {
     "data": {
      "text/plain": [
       "avgDriveDist        float64\n",
       "drivePct            float64\n",
       "avgPuttsPerRound    float64\n",
       "onePuttPct          float64\n",
       "driveSG             float64\n",
       "puttsSG             float64\n",
       "avgScore            float64\n",
       "courseYards           int64\n",
       "dtype: object"
      ]
     },
     "execution_count": 83,
     "metadata": {},
     "output_type": "execute_result"
    }
   ],
   "execution_count": 83
  },
  {
   "metadata": {
    "ExecuteTime": {
     "end_time": "2025-03-31T20:46:07.036648Z",
     "start_time": "2025-03-31T20:46:07.032643Z"
    }
   },
   "cell_type": "code",
   "source": [
    "X = df[['driveSG', 'avgDriveDist', 'drivePct', 'puttsSG', 'avgPuttsPerRound', 'onePuttPct']]\n",
    "\n",
    "# Target variable\n",
    "y = df['avgScore']"
   ],
   "id": "fae2b8314da24ee6",
   "outputs": [],
   "execution_count": 84
  },
  {
   "metadata": {},
   "cell_type": "markdown",
   "source": "General model on all data",
   "id": "2b2c433c5d8fbc42"
  },
  {
   "metadata": {
    "ExecuteTime": {
     "end_time": "2025-03-31T20:46:29.064357Z",
     "start_time": "2025-03-31T20:46:07.063159Z"
    }
   },
   "cell_type": "code",
   "source": [
    "from sklearn.model_selection import train_test_split, GridSearchCV\n",
    "from sklearn.ensemble import RandomForestRegressor\n",
    "\n",
    "# Split the data\n",
    "X_train, X_test, y_train, y_test = train_test_split(X, y, test_size=0.2, random_state=42)\n",
    "\n",
    "\n",
    "param_grid = {\n",
    "    'n_estimators': [50, 150],\n",
    "    'max_depth': [6, 8, 10, 12],\n",
    "    'min_samples_leaf': [2, 3, 4],\n",
    "    'max_features': ['sqrt', 'log2'],\n",
    "}\n",
    "\n",
    "# initializing model\n",
    "rf = RandomForestRegressor(random_state=42)\n",
    "\n",
    "# Applying GridSearchCV on training data\n",
    "grid_search = GridSearchCV(rf, param_grid, cv=5, scoring='r2')\n",
    "grid_search.fit(X_train, y_train)\n",
    "\n",
    "# Best model from training\n",
    "best_rf = grid_search.best_estimator_"
   ],
   "id": "99b9b161b500022",
   "outputs": [
    {
     "name": "stderr",
     "output_type": "stream",
     "text": [
      "C:\\Python312\\Lib\\site-packages\\numpy\\ma\\core.py:2846: RuntimeWarning: invalid value encountered in cast\n",
      "  _data = np.array(data, dtype=dtype, copy=copy,\n"
     ]
    }
   ],
   "execution_count": 85
  },
  {
   "metadata": {},
   "cell_type": "markdown",
   "source": "Model statistics",
   "id": "f2f58914caf9f759"
  },
  {
   "metadata": {
    "ExecuteTime": {
     "end_time": "2025-03-31T20:46:29.092205Z",
     "start_time": "2025-03-31T20:46:29.069363Z"
    }
   },
   "cell_type": "code",
   "source": [
    "from sklearn.metrics import r2_score, mean_squared_error\n",
    "\n",
    "# On training data\n",
    "y_train_pred = best_rf.predict(X_train)\n",
    "train_r2 = r2_score(y_train, y_train_pred)\n",
    "train_mse = mean_squared_error(y_train, y_train_pred)\n",
    "\n",
    "# On test data\n",
    "y_test_pred = best_rf.predict(X_test)\n",
    "test_r2 = r2_score(y_test, y_test_pred)\n",
    "test_mse = mean_squared_error(y_test, y_test_pred)\n",
    "\n",
    "print(f\"Train R²: {train_r2:.3f}, Test R²: {test_r2:.3f}\")\n",
    "print(f\"Train MSE: {train_mse:.2f}, Test MSE: {test_mse:.2f}\")\n"
   ],
   "id": "51c1161e312ef63f",
   "outputs": [
    {
     "name": "stdout",
     "output_type": "stream",
     "text": [
      "Train R²: 0.588, Test R²: 0.294\n",
      "Train MSE: 0.91, Test MSE: 1.65\n"
     ]
    }
   ],
   "execution_count": 86
  },
  {
   "metadata": {},
   "cell_type": "markdown",
   "source": "Displaying permutation feature importance scores",
   "id": "318d26b692483076"
  },
  {
   "metadata": {
    "ExecuteTime": {
     "end_time": "2025-03-31T20:46:29.413859Z",
     "start_time": "2025-03-31T20:46:29.121699Z"
    }
   },
   "cell_type": "code",
   "source": [
    "from sklearn.inspection import permutation_importance\n",
    "import pandas as pd\n",
    "\n",
    "# Run on test set\n",
    "result = permutation_importance(\n",
    "    best_rf, X_test, y_test,\n",
    "    n_repeats=10,\n",
    "    random_state=42,\n",
    "    scoring='r2'\n",
    ")\n",
    "\n",
    "perm_df = pd.DataFrame({\n",
    "    'Feature': X_test.columns,\n",
    "    'Importance': result.importances_mean\n",
    "}).sort_values(by='Importance', ascending=False)\n",
    "\n",
    "# Scale permutation importance to percentage\n",
    "perm_df['Importance (%)'] = (100 * perm_df['Importance'] / perm_df['Importance'].sum()).round(2)\n",
    "\n",
    "print('General')\n",
    "print(perm_df)"
   ],
   "id": "768c58e41a2968d5",
   "outputs": [
    {
     "name": "stdout",
     "output_type": "stream",
     "text": [
      "General\n",
      "            Feature  Importance  Importance (%)\n",
      "3           puttsSG    0.234955           48.80\n",
      "0           driveSG    0.134722           27.98\n",
      "2          drivePct    0.066010           13.71\n",
      "1      avgDriveDist    0.023469            4.87\n",
      "5        onePuttPct    0.022523            4.68\n",
      "4  avgPuttsPerRound   -0.000219           -0.05\n"
     ]
    }
   ],
   "execution_count": 87
  },
  {
   "metadata": {},
   "cell_type": "markdown",
   "source": "Creating short and long course data frames and Initializing short model",
   "id": "7af2228d43fc2cb0"
  },
  {
   "metadata": {
    "ExecuteTime": {
     "end_time": "2025-03-31T20:46:45.479998Z",
     "start_time": "2025-03-31T20:46:29.441862Z"
    }
   },
   "cell_type": "code",
   "source": [
    "feature_columns = X.columns.tolist()  # Or manually list them\n",
    "\n",
    "# Split into short and long courses\n",
    "median_yardage = df['courseYards'].median()\n",
    "df_short = df[df['courseYards'] <= median_yardage]\n",
    "df_long = df[df['courseYards'] > median_yardage]\n",
    "\n",
    "# Split short courses into train test\n",
    "X_short = df_short[feature_columns]\n",
    "y_short = df_short['avgScore']\n",
    "X_short_train, X_short_test, y_short_train, y_short_test = train_test_split(X_short, y_short, test_size=0.2, random_state=42)\n",
    "\n",
    "# Grid search for short\n",
    "grid_search_short = GridSearchCV(RandomForestRegressor(random_state=42), param_grid, cv=5, scoring='r2')\n",
    "grid_search_short.fit(X_short_train, y_short_train)\n",
    "\n",
    "# best model on short courses\n",
    "best_rf_short = grid_search_short.best_estimator_"
   ],
   "id": "65b7ab75d263362b",
   "outputs": [],
   "execution_count": 88
  },
  {
   "metadata": {},
   "cell_type": "markdown",
   "source": "Displaying permutation feature importance scores",
   "id": "2a5111e18e2fb7b1"
  },
  {
   "metadata": {
    "ExecuteTime": {
     "end_time": "2025-03-31T20:46:45.751104Z",
     "start_time": "2025-03-31T20:46:45.509597Z"
    }
   },
   "cell_type": "code",
   "source": [
    "perm_result_short = permutation_importance(\n",
    "    best_rf_short,\n",
    "    X_short_test,\n",
    "    y_short_test,\n",
    "    n_repeats=10,\n",
    "    random_state=42,\n",
    "    scoring='r2'\n",
    ")\n",
    "\n",
    "perm_importance_short = pd.DataFrame({\n",
    "    'Feature': X_short_test.columns,\n",
    "    'Importance': perm_result_short.importances_mean\n",
    "}).sort_values(by='Importance', ascending=False)\n",
    "\n",
    "# Scale permutation importance to percentage\n",
    "perm_importance_short['Importance (%)'] = (100 * perm_importance_short['Importance'] / perm_importance_short['Importance'].sum()).round(2)\n",
    "\n",
    "print('Short')\n",
    "print(perm_importance_short)"
   ],
   "id": "895ed3a3fa3f9251",
   "outputs": [
    {
     "name": "stdout",
     "output_type": "stream",
     "text": [
      "Short\n",
      "            Feature  Importance  Importance (%)\n",
      "0           driveSG    0.199837           41.20\n",
      "3           puttsSG    0.148447           30.61\n",
      "1      avgDriveDist    0.090379           18.63\n",
      "2          drivePct    0.024410            5.03\n",
      "5        onePuttPct    0.014305            2.95\n",
      "4  avgPuttsPerRound    0.007656            1.58\n"
     ]
    }
   ],
   "execution_count": 89
  },
  {
   "metadata": {},
   "cell_type": "markdown",
   "source": "Initializing long model",
   "id": "7e13e0f5536ed3a5"
  },
  {
   "metadata": {
    "ExecuteTime": {
     "end_time": "2025-03-31T20:47:00.670133Z",
     "start_time": "2025-03-31T20:46:45.781269Z"
    }
   },
   "cell_type": "code",
   "source": [
    "# Split long courses\n",
    "X_long = df_long[feature_columns]\n",
    "y_long = df_long['avgScore']\n",
    "X_long_train, X_long_test, y_long_train, y_long_test = train_test_split(X_long, y_long, test_size=0.2, random_state=42)\n",
    "\n",
    "# Grid search for long\n",
    "grid_search_long = GridSearchCV(RandomForestRegressor(random_state=42), param_grid, cv=5, scoring='r2')\n",
    "grid_search_long.fit(X_long_train, y_long_train)\n",
    "\n",
    "# best model on long courses\n",
    "best_rf_long = grid_search_long.best_estimator_"
   ],
   "id": "9bb5cdc6de624445",
   "outputs": [],
   "execution_count": 90
  },
  {
   "metadata": {},
   "cell_type": "markdown",
   "source": "Displaying permutation feature importance scores",
   "id": "bea583a6de4972d2"
  },
  {
   "metadata": {
    "ExecuteTime": {
     "end_time": "2025-03-31T20:47:00.813843Z",
     "start_time": "2025-03-31T20:47:00.698747Z"
    }
   },
   "cell_type": "code",
   "source": [
    "perm_result_long = permutation_importance(\n",
    "    best_rf_long,\n",
    "    X_long_test,\n",
    "    y_long_test,\n",
    "    n_repeats=10,\n",
    "    random_state=42,\n",
    "    scoring='r2'\n",
    ")\n",
    "\n",
    "perm_importance_long = pd.DataFrame({\n",
    "    'Feature': X_long_test.columns,\n",
    "    'Importance': perm_result_long.importances_mean\n",
    "}).sort_values(by='Importance', ascending=False)\n",
    "\n",
    "# Scale permutation importance to percentage\n",
    "perm_importance_long['Importance (%)'] = (100 * perm_importance_long['Importance'] / perm_importance_long['Importance'].sum()).round(2)\n",
    "\n",
    "print('Long')\n",
    "print(perm_importance_long)"
   ],
   "id": "a38e63941f757b79",
   "outputs": [
    {
     "name": "stdout",
     "output_type": "stream",
     "text": [
      "Long\n",
      "            Feature  Importance  Importance (%)\n",
      "3           puttsSG    0.165734           34.67\n",
      "1      avgDriveDist    0.152980           32.01\n",
      "0           driveSG    0.136206           28.50\n",
      "2          drivePct    0.040376            8.45\n",
      "4  avgPuttsPerRound   -0.004147           -0.87\n",
      "5        onePuttPct   -0.013162           -2.75\n"
     ]
    }
   ],
   "execution_count": 91
  },
  {
   "metadata": {},
   "cell_type": "markdown",
   "source": "Grouping data into driving and putting categories",
   "id": "7e4c591c960bf149"
  },
  {
   "metadata": {
    "ExecuteTime": {
     "end_time": "2025-03-31T20:47:00.848863Z",
     "start_time": "2025-03-31T20:47:00.843857Z"
    }
   },
   "cell_type": "code",
   "source": [
    "# Define driving and putting metrics\n",
    "driving_metrics = ['driveSG', 'avgDriveDist', 'drivePct']\n",
    "putting_metrics = ['puttsSG', 'avgPuttsPerRound', 'onePuttPct']\n",
    "\n",
    "# Sum feature importance for driving and putting\n",
    "driving_importance = sum(perm_df[perm_df['Feature'].isin(driving_metrics)]['Importance'])\n",
    "putting_importance = sum(perm_df[perm_df['Feature'].isin(putting_metrics)]['Importance'])"
   ],
   "id": "f3a83683aa43ddf6",
   "outputs": [],
   "execution_count": 92
  },
  {
   "metadata": {},
   "cell_type": "markdown",
   "source": "Bar chart for aggregated importance of driving and putting metrics",
   "id": "c78ddea191bf391a"
  },
  {
   "metadata": {
    "ExecuteTime": {
     "end_time": "2025-03-31T20:47:00.939603Z",
     "start_time": "2025-03-31T20:47:00.879556Z"
    }
   },
   "cell_type": "code",
   "source": [
    "group_importance = pd.DataFrame({\n",
    "    'Category': ['Driving', 'Putting'],\n",
    "    'Total Importance': [driving_importance, putting_importance]\n",
    "})\n",
    "\n",
    "# Convert to percentage\n",
    "total = group_importance['Total Importance'].sum()\n",
    "group_importance['Importance (%)'] = (100 * group_importance['Total Importance'] / total).round(2)\n",
    "\n",
    "# Plot\n",
    "plt.figure(figsize=(6, 5))\n",
    "bars = plt.bar(group_importance['Category'], group_importance['Importance (%)'], color=['steelblue', 'mediumseagreen'])\n",
    "plt.title('Driving vs. Putting Importance in Predicting Scoring Average', fontsize=12)\n",
    "plt.ylabel('Aggregated Permutation Importance (%)')\n",
    "plt.ylim(0, 100)\n",
    "\n",
    "# Add value labels\n",
    "for bar in bars:\n",
    "    yval = bar.get_height()\n",
    "    plt.text(bar.get_x() + bar.get_width()/2, yval + 1.5, f\"{yval:.2f}%\", ha='center', va='bottom', fontsize=10)\n",
    "\n",
    "plt.grid(False)\n",
    "plt.tight_layout()\n",
    "#plt.savefig('total_permutation_importance.png', dpi=300, bbox_inches='tight')\n",
    "plt.show()"
   ],
   "id": "7779a5bdfb6638ee",
   "outputs": [
    {
     "data": {
      "text/plain": [
       "<Figure size 600x500 with 1 Axes>"
      ],
      "image/png": "[encoded data removed]"
     },
     "metadata": {},
     "output_type": "display_data"
    }
   ],
   "execution_count": 93
  },
  {
   "metadata": {},
   "cell_type": "markdown",
   "source": "Displaying permutation feature importance scores for metrics across short and long courses",
   "id": "26b2620db08abe3b"
  },
  {
   "metadata": {
    "ExecuteTime": {
     "end_time": "2025-03-31T20:47:01.068746Z",
     "start_time": "2025-03-31T20:47:00.969904Z"
    }
   },
   "cell_type": "code",
   "source": [
    "import matplotlib.pyplot as plt\n",
    "import numpy as np\n",
    "\n",
    "# Merge short and long course importances\n",
    "merged = perm_importance_short.merge(perm_importance_long, on='Feature', suffixes=('_Short', '_Long'))\n",
    "\n",
    "# Sort features by average importance\n",
    "merged['avg'] = (merged['Importance_Short'] + merged['Importance_Long']) / 2\n",
    "merged = merged.sort_values('avg', ascending=True)\n",
    "\n",
    "# Plot\n",
    "plt.figure(figsize=(10, 6))\n",
    "bar_width = 0.4\n",
    "indices = np.arange(len(merged))\n",
    "\n",
    "plt.barh(indices - bar_width/2, merged['Importance_Short'], bar_width, label='Short Courses', color='mediumseagreen')\n",
    "plt.barh(indices + bar_width/2, merged['Importance_Long'], bar_width, label='Long Courses', color='steelblue')\n",
    "\n",
    "plt.yticks(indices, merged['Feature'])\n",
    "plt.xlabel('Permutation Importance')\n",
    "plt.title('Permutation Importance on Short vs. Long Courses')\n",
    "plt.legend()\n",
    "plt.grid(axis='x', linestyle='--', alpha=0.7)\n",
    "plt.tight_layout()\n",
    "#plt.savefig('short_vs_long_permutation.png', dpi=300, bbox_inches='tight')\n",
    "plt.show()"
   ],
   "id": "2d1c7f1020bb41f",
   "outputs": [
    {
     "data": {
      "text/plain": [
       "<Figure size 1000x600 with 1 Axes>"
      ],
      "image/png": "[encoded data removed]"
     },
     "metadata": {},
     "output_type": "display_data"
    }
   ],
   "execution_count": 94
  }
 ],
 "metadata": {
  "kernelspec": {
   "display_name": "Python 3",
   "language": "python",
   "name": "python3"
  },
  "language_info": {
   "codemirror_mode": {
    "name": "ipython",
    "version": 2
   },
   "file_extension": ".py",
   "mimetype": "text/x-python",
   "name": "python",
   "nbconvert_exporter": "python",
   "pygments_lexer": "ipython2",
   "version": "2.7.6"
  }
 },
 "nbformat": 4,
 "nbformat_minor": 5
}
